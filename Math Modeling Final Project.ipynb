{
 "cells": [
  {
   "cell_type": "code",
   "execution_count": 1,
   "id": "4fe00d27",
   "metadata": {},
   "outputs": [],
   "source": [
    "# Configure Jupyter so figures appear in the notebook\n",
    "%matplotlib inline\n",
    "\n",
    "# Configure Jupyter to display the assigned value after an assignment\n",
    "%config InteractiveShell.ast_node_interactivity='last_expr_or_assign'\n",
    "\n",
    "# import functions from the modsim.py module\n",
    "from modsim import *\n",
    "\n",
    "\n",
    "# import libraries\n",
    "# (these may or may not be necessary)\n",
    "\n",
    "import matplotlib.pyplot as plt\n",
    "\n",
    "import numpy as np\n",
    "from numpy.linalg import eig\n",
    "from numpy.linalg import inv"
   ]
  },
  {
   "cell_type": "code",
   "execution_count": 2,
   "id": "b89cde25",
   "metadata": {},
   "outputs": [
    {
     "data": {
      "text/plain": [
       "array([[0.59721457, 0.02715819, 0.04727733, 0.03414208],\n",
       "       [0.06477595, 0.70688367, 0.13619282, 0.10919146],\n",
       "       [0.22191297, 0.22394799, 0.67362491, 0.51857762],\n",
       "       [0.11609651, 0.04201014, 0.14290494, 0.33808884]])"
      ]
     },
     "execution_count": 2,
     "metadata": {},
     "output_type": "execute_result"
    }
   ],
   "source": [
    "a = np.array([[0.9947, 0.0003, 0.0007, 0.0003], \n",
    "              [0.0006, 0.9962, 0.0019, 0.0011],\n",
    "              [0.0025, 0.0032, 0.9942, 0.0118],\n",
    "              [0.0022, 0.0003, 0.0032, 0.9868]]) #transition matrix of the resident movements converted into decimals\n",
    "\n",
    "a = np.linalg.matrix_power(a,100) #raises the matrix a to the power of 100 to approximate the limiting matrix"
   ]
  },
  {
   "cell_type": "code",
   "execution_count": 3,
   "id": "70192497",
   "metadata": {},
   "outputs": [
    {
     "name": "stdout",
     "output_type": "stream",
     "text": [
      "E-value: [1.         0.18625627 0.52870252 0.60085321]\n",
      "E-vector matrix [[-0.14986748  0.02689803  0.38638656 -0.2892182 ]\n",
      " [-0.50126994  0.05173857  0.53344662  0.85892275]\n",
      " [-0.81918362 -0.74412599 -0.72739892 -0.37519302]\n",
      " [-0.23496038  0.66548939 -0.19243426 -0.19451153]]\n"
     ]
    }
   ],
   "source": [
    "w,v=eig(a)\n",
    "print('E-value:', w)\n",
    "print('E-vector matrix', v)  #each matrix COLUMN is an eigenvector corresponding to the eigenvalue list, in order"
   ]
  },
  {
   "cell_type": "code",
   "execution_count": 4,
   "id": "dc5915f5",
   "metadata": {},
   "outputs": [
    {
     "data": {
      "text/plain": [
       "array([[-0.14986748],\n",
       "       [-0.50126994],\n",
       "       [-0.81918362],\n",
       "       [-0.23496038]])"
      ]
     },
     "execution_count": 4,
     "metadata": {},
     "output_type": "execute_result"
    }
   ],
   "source": [
    "evector=v[:,0:1] #rows 0 through 1, column 1; returns a column vector"
   ]
  },
  {
   "cell_type": "code",
   "execution_count": 5,
   "id": "3ce26212",
   "metadata": {},
   "outputs": [
    {
     "data": {
      "text/plain": [
       "array([[0.08788431],\n",
       "       [0.29395145],\n",
       "       [0.48038031],\n",
       "       [0.13778393]])"
      ]
     },
     "execution_count": 5,
     "metadata": {},
     "output_type": "execute_result"
    }
   ],
   "source": [
    "evector = evector/sum(evector) #limiting matrix"
   ]
  },
  {
   "cell_type": "code",
   "execution_count": 6,
   "id": "7b616e44",
   "metadata": {},
   "outputs": [
    {
     "data": {
      "text/plain": [
       "array([[0.08788431, 0.08788431, 0.08788431, 0.08788431],\n",
       "       [0.29395145, 0.29395145, 0.29395145, 0.29395145],\n",
       "       [0.48038031, 0.48038031, 0.48038031, 0.48038031],\n",
       "       [0.13778393, 0.13778393, 0.13778393, 0.13778393]])"
      ]
     },
     "execution_count": 6,
     "metadata": {},
     "output_type": "execute_result"
    }
   ],
   "source": [
    "np.linalg.matrix_power(a,100)"
   ]
  },
  {
   "cell_type": "code",
   "execution_count": null,
   "id": "09c5697e",
   "metadata": {},
   "outputs": [],
   "source": []
  }
 ],
 "metadata": {
  "kernelspec": {
   "display_name": "Python 3 (ipykernel)",
   "language": "python",
   "name": "python3"
  },
  "language_info": {
   "codemirror_mode": {
    "name": "ipython",
    "version": 3
   },
   "file_extension": ".py",
   "mimetype": "text/x-python",
   "name": "python",
   "nbconvert_exporter": "python",
   "pygments_lexer": "ipython3",
   "version": "3.9.13"
  }
 },
 "nbformat": 4,
 "nbformat_minor": 5
}
